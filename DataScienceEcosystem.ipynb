{
 "cells": [
  {
   "cell_type": "markdown",
   "id": "d193934e-d0b8-482a-9645-cf19fa0453bf",
   "metadata": {},
   "source": [
    "# Data Science Tools and Ecosystem "
   ]
  },
  {
   "cell_type": "markdown",
   "id": "8cd653d4-ead5-4411-aa93-25a8ddaaa28a",
   "metadata": {},
   "source": [
    "In this notebook, Data Science Tools and Ecosystem are summarized"
   ]
  },
  {
   "cell_type": "markdown",
   "id": "02389bfa-0faf-424d-b37c-c39977f3fadf",
   "metadata": {},
   "source": [
    "**Objectives:**\n",
    "\n",
    "- List popular languages for Data Science.\n",
    "- Explore commonly used libraries in Data Science.\n",
    "- Understand the importance of data science tools and ecosystem.\n",
    "- Evaluate arithmetic expressions in Python.\n",
    "- Convert minutes to hours using Python."
   ]
  },
  {
   "cell_type": "markdown",
   "id": "167b5f59-d466-49c6-a413-ad58cfaba9c3",
   "metadata": {},
   "source": [
    "### Some of the popular languages that Data Scientists use are:\n",
    "\n",
    "1. Python: Python is widely regarded as one of the most popular programming languages for data science due to its versatility, extensive libraries such as NumPy, Pandas, and scikit-learn, and strong community support.\n",
    "\n",
    "2. R: R is another widely adopted language among data scientists. It offers a rich ecosystem of statistical and data visualization packages, making it particularly suitable for statistical analysis and exploratory data analysis (EDA).\n",
    "\n",
    "3. SQL: Although SQL (Structured Query Language) is primarily used for database management, it is an essential language for data scientists as it allows efficient querying and manipulation of large datasets. Proficiency in SQL is valuable for working with relational databases."
   ]
  },
  {
   "cell_type": "markdown",
   "id": "91853f82-8f37-4239-a1b1-e20464e487b8",
   "metadata": {},
   "source": [
    "| Data Science Tools |\n",
    "|--------------------|\n",
    "| Jupyter Notebook   |\n",
    "| RStudio            |\n",
    "| VS Code            |"
   ]
  },
  {
   "cell_type": "markdown",
   "id": "9cfda7b6-34cf-4aa1-b134-1f4122ccac08",
   "metadata": {},
   "source": [
    "### Below are a few examples of evaluating arithmetic expressions in Python.\n",
    "\n",
    "Here are a few examples of evaluating arithmetic expressions in Python:\n",
    "\n",
    "Addition \n",
    "\n",
    "result= 5+4\n",
    "print( result) # Output: 8 \n",
    "\n",
    "result = 10 - 2\n",
    "print(result)  # Output: 8\n",
    "\n",
    "result = 4 * 5\n",
    "print(result)  # Output: 20 \n",
    "\n",
    "result = 10 // 3\n",
    "print(result)  # Output: 3\n",
    "\n",
    "\n",
    "\n"
   ]
  },
  {
   "cell_type": "code",
   "execution_count": null,
   "id": "88e1178d-ee1e-4aa9-8b7a-7215eec27716",
   "metadata": {},
   "outputs": [],
   "source": [
    "# This is a simple arithmetic expression to multiply then add integers.\n",
    "result = (3 * 4) + 5 \n",
    "print(result)  # Output: 17"
   ]
  },
  {
   "cell_type": "code",
   "execution_count": null,
   "id": "83034fd8-de1d-4704-9ef4-b6f20527018e",
   "metadata": {
    "tags": []
   },
   "outputs": [],
   "source": [
    "# This a simple arithmetic expression to mutiply then add integers\n",
    "minutes= 200 \n",
    "hours= 200/60\n",
    "print(hours) # Output: 3. 3333333333333335\n"
   ]
  },
  {
   "cell_type": "markdown",
   "id": "8c4ac7cb-d521-4448-821d-e416c4b8ecf1",
   "metadata": {},
   "source": [
    "## Author\n",
    "\n",
    "**Widad FETHALLAH**"
   ]
  },
  {
   "cell_type": "code",
   "execution_count": null,
   "id": "9aabee82-86c7-4735-a231-6b24647c113d",
   "metadata": {},
   "outputs": [],
   "source": []
  }
 ],
 "metadata": {
  "kernelspec": {
   "display_name": "Python",
   "language": "python",
   "name": "conda-env-python-py"
  },
  "language_info": {
   "codemirror_mode": {
    "name": "ipython",
    "version": 3
   },
   "file_extension": ".py",
   "mimetype": "text/x-python",
   "name": "python",
   "nbconvert_exporter": "python",
   "pygments_lexer": "ipython3",
   "version": "3.7.12"
  }
 },
 "nbformat": 4,
 "nbformat_minor": 5
}
